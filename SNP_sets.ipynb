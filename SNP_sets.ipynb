{
  "nbformat": 4,
  "nbformat_minor": 0,
  "metadata": {
    "colab": {
      "provenance": []
    },
    "kernelspec": {
      "name": "python3",
      "display_name": "Python 3"
    },
    "language_info": {
      "name": "python"
    }
  },
  "cells": [
    {
      "cell_type": "markdown",
      "source": [
        "Notes\n",
        "Two SNPs are identical if\n",
        "- they share the same position\n",
        "AND\n",
        "- the have the same substitution.\n",
        "\n",
        "When you compute the difference between X-Y, consider SNPs that are at least 80% in X, and at least 27% in Y.\n",
        "\n",
        "Given\n",
        "- A = BdWA1\n",
        "- B = FAT_R_P1\n",
        "- C = FAT_R_P2\n",
        "- D = FAT_R_C1\n",
        "- E = FAT_R_C2\n",
        "- F = FAT_R_C3\n",
        "- G = Fos_FAT_R_P\n",
        "- H = Fos_FAT_R_C1\n",
        "- I = Fos_FAT_R_C2\n",
        "- J = Fos_FAT_R_C3\n",
        "\n",
        "produce:\n",
        "- Unique SNPs for FAT_R_P1 = (B-A-C)\n",
        "- Unique SNPs for FAT_R_P2 = (C-A-B)\n",
        "- Unique SNPs for FAT_R_C1 = (D-A-B-C-E-F)\n",
        "- Unique SNPs for FAT_R_C2 = (E-A-B-C-D-F)\n",
        "- Unique SNPs for FAT_R_C3 = (F-A-B-C-D-E)\n",
        "- Common SNPs in FAT_R_Clones =(D+E+F)\n",
        "- Unique SNPs for Fos_FAT_R_P = (G-A-B-C-D-E-F)\n",
        "- Unique SNPs for Fos_FAT_R_C1 = (H-A-B-C-D-E-F-G-I-J)\n",
        "- Unique SNPs for Fos_FAT_R_C2 = (I-A-B-C-D-E-F-G-H-J)\n",
        "- Unique SNPs for Fos_FAT_R_C3 = (J-A-B-C-D-E-F-G-H-I)\n",
        "- Common SNPs in Fos_FAT_R_Clones = (H+I+J)\n",
        "- SNPs in the intersection between (D+E+F) and (H+I+J)"
      ],
      "metadata": {
        "id": "LYgHHWpmAJCO"
      }
    },
    {
      "cell_type": "code",
      "source": [
        "###\n",
        "### support functions\n",
        "###\n",
        "import io\n",
        "import pandas as pd\n",
        "from google.colab import files\n",
        "\n",
        "def read_file(fname):\n",
        "  u = files.upload()\n",
        "  for fn in u.keys():\n",
        "    print('User uploaded file \"{name}\" with length {length} bytes'.format(name=fn, length=len(u[fn])))\n",
        "  tab = pd.read_excel(io.BytesIO(u[fname]),keep_default_na=False)\n",
        "  my_dict = {}\n",
        "  for index, row in tab.iterrows():\n",
        "    change = row['Change']\n",
        "    chromosome = row['Chromosome']\n",
        "    minimum = row['Minimum']\n",
        "    maximum = row['Maximum']\n",
        "    frequency = row['Variant Frequency']\n",
        "    ptype = row['Polymorphism Type']\n",
        "    aachange = row['Amino Acid Change']\n",
        "    cds = row['CDS']\n",
        "    codon = row['CDS Codon Number']\n",
        "    effect = row['Protein Effect']\n",
        "    assert(minimum==maximum)\n",
        "    my_dict[chromosome,minimum,change] = (float(frequency),ptype,aachange,cds,codon,effect)\n",
        "  print('Read', len(my_dict), 'records')\n",
        "  return my_dict\n",
        "\n",
        "def dict_union(X_dict,Y_dict):\n",
        "  #\n",
        "  # computes (X u Y)\n",
        "  #\n",
        "  XunionY_dict = {}\n",
        "  for y in Y_dict:\n",
        "    XunionY_dict[y] = Y_dict[y]\n",
        "  for x in X_dict:\n",
        "    if x in Y_dict:\n",
        "      if X_dict[x][0] > Y_dict[x][0]:\n",
        "        XunionY_dict[x] = X_dict[x] # take the highest frequency\n",
        "      else:\n",
        "        XunionY_dict[x] = Y_dict[x]\n",
        "    else:\n",
        "      XunionY_dict[x] = X_dict[x]\n",
        "  return XunionY_dict\n",
        "\n",
        "def dict_print(my_dict):\n",
        "  #\n",
        "  # prints the dictionary\n",
        "  #\n",
        "  print('Change, Chromosome, Minimum, Maximum, Variant Frequency, Polymorphism Type, Amino Acid Change, CDS, CDS Codon Number, Protein Effect')\n",
        "  for x in my_dict:\n",
        "    print(str(x[2])+\", \"+str(x[0])+\", \"+str(x[1])+\", \"+str(x[1])+\", \"+str(my_dict[x][0])+\", \"+str(my_dict[x][1])+\", \"+str(my_dict[x][2])+\", \"+str(my_dict[x][3])+\", \"+str(my_dict[x][4])+\", \"+str(my_dict[x][5]))\n",
        "  print('\\n')\n",
        "\n",
        "def dict_difference(X_dict,Y_dict):\n",
        "  #\n",
        "  # computes and prints X - Y\n",
        "  #\n",
        "  difference_dict = {}\n",
        "  discarded_dict = {}\n",
        "  for x in X_dict:\n",
        "    if (X_dict[x][0] >= 0.8): # consider b only if at least 80%\n",
        "      if x in Y_dict:\n",
        "        if (Y_dict[x][0] >= 0.27): # consider a only if at least 27%\n",
        "          discarded_dict[x] = 'SNP in common'\n",
        "        else:\n",
        "          difference_dict[x] = X_dict[x]\n",
        "      else:\n",
        "        difference_dict[x] = X_dict[x]\n",
        "    else:\n",
        "      discarded_dict[x] = 'below 80%'\n",
        "  # print the CSVs\n",
        "  dict_print(difference_dict)\n",
        "  print('Change, Chromosome, Minimum, Maximum, Reason Discarded')\n",
        "  for x in discarded_dict:\n",
        "    print(str(x[2])+\", \"+str(x[0])+\", \"+str(x[1])+\", \"+str(x[1])+\", \"+str(discarded_dict[x]))\n",
        "  # return (difference_dict, discarded_dict)"
      ],
      "metadata": {
        "id": "H1IqeJYiWHZ-"
      },
      "execution_count": null,
      "outputs": []
    },
    {
      "cell_type": "code",
      "source": [
        "###\n",
        "### READ A (WA1)\n",
        "###\n",
        "A_dict = read_file('A_BdWA_1 SNPs.xlsx')\n",
        "print(A_dict)"
      ],
      "metadata": {
        "id": "kPipt33hWsV-"
      },
      "execution_count": null,
      "outputs": []
    },
    {
      "cell_type": "code",
      "source": [
        "###\n",
        "### READ B (FAT_R_P1)\n",
        "###\n",
        "B_dict = read_file('B_FAT_R_P1 SNPs .xlsx')\n",
        "print(B_dict)"
      ],
      "metadata": {
        "id": "pPFIsFj499yk"
      },
      "execution_count": null,
      "outputs": []
    },
    {
      "cell_type": "code",
      "source": [
        "###\n",
        "### READ C (FAT_R_P2)\n",
        "###\n",
        "C_dict = read_file('C_FAT_R_P2.xlsx')\n",
        "print(C_dict)"
      ],
      "metadata": {
        "id": "bLgVEqqXzreP"
      },
      "execution_count": null,
      "outputs": []
    },
    {
      "cell_type": "code",
      "source": [
        "###\n",
        "### COMPUTE Unique SNPs for FAT_R_P1 = B - (A u C)\n",
        "###\n",
        "AunionC_dict = dict_union(A_dict,C_dict)\n",
        "dict_difference(B_dict,AunionC_dict)"
      ],
      "metadata": {
        "id": "RLNtdEjc4O3u"
      },
      "execution_count": null,
      "outputs": []
    },
    {
      "cell_type": "code",
      "source": [
        "###\n",
        "### COMPUTE Unique SNPs for FAT_R_P2 = C - (A u B)\n",
        "###\n",
        "AunionB_dict = dict_union(A_dict,B_dict)\n",
        "dict_difference(C_dict, AunionB_dict)"
      ],
      "metadata": {
        "id": "qbutXvKra6r2"
      },
      "execution_count": null,
      "outputs": []
    },
    {
      "cell_type": "code",
      "source": [
        "###\n",
        "### READ D (FAT_R_C1)\n",
        "###\n",
        "D_dict = read_file('D_FAT_RC1 SNPs.xlsx')\n",
        "print(D_dict)"
      ],
      "metadata": {
        "id": "TWuebGTDUtHi"
      },
      "execution_count": null,
      "outputs": []
    },
    {
      "cell_type": "code",
      "source": [
        "###\n",
        "### READ E (FAT_R_C2)\n",
        "###\n",
        "E_dict = read_file('E_FAT_R_C2.xlsx')\n",
        "print(E_dict)"
      ],
      "metadata": {
        "id": "ZNR8GOrqUeIP"
      },
      "execution_count": null,
      "outputs": []
    },
    {
      "cell_type": "code",
      "source": [
        "###\n",
        "### READS F (FAT_R_C3)\n",
        "###\n",
        "F_dict = read_file('F_FAT_R_C3.xlsx')\n",
        "print(F_dict)"
      ],
      "metadata": {
        "id": "jTTFasO1Uzl3"
      },
      "execution_count": null,
      "outputs": []
    },
    {
      "cell_type": "code",
      "source": [
        "###\n",
        "### COMPUTE Unique SNPs for FAT_R_C1 = D - (A u B u C u E u F)\n",
        "###\n",
        "AuB_dict = dict_union(A_dict, B_dict)\n",
        "CuE_dict = dict_union(C_dict, E_dict)\n",
        "AuBuCuE_dict = dict_union(AuB_dict, CuE_dict)\n",
        "AuBuCuEuF_dict = dict_union(AuBuCuE_dict, F_dict)\n",
        "dict_difference(D_dict, AuBuCuEuF_dict)"
      ],
      "metadata": {
        "id": "25rMLky8TD5N"
      },
      "execution_count": null,
      "outputs": []
    },
    {
      "cell_type": "code",
      "source": [
        "###\n",
        "### COMPUTE Unique SNPs for FAT_R_C2 = E - (A u B u C u D u F)\n",
        "###\n",
        "AuB_dict = dict_union(A_dict, B_dict)\n",
        "CuD_dict = dict_union(C_dict, D_dict)\n",
        "AuBuCuD_dict = dict_union(AuB_dict, CuD_dict)\n",
        "AuBuCuDuF_dict = dict_union(AuBuCuD_dict, F_dict)\n",
        "dict_difference(E_dict, AuBuCuDuF_dict)"
      ],
      "metadata": {
        "id": "UVjzu_cPb-9V"
      },
      "execution_count": null,
      "outputs": []
    },
    {
      "cell_type": "code",
      "source": [
        "###\n",
        "### COMPUTE Unique SNPs for FAT_R_C3 = F - (A u B u C u D u E)\n",
        "###\n",
        "AuB_dict = dict_union(A_dict, B_dict)\n",
        "CuD_dict = dict_union(C_dict, D_dict)\n",
        "AuBuCuD_dict = dict_union(AuB_dict, CuD_dict)\n",
        "AuBuCuDuE_dict = dict_union(AuBuCuD_dict, E_dict)\n",
        "dict_difference(F_dict, AuBuCuDuE_dict)"
      ],
      "metadata": {
        "id": "LYRGpQNncAg7"
      },
      "execution_count": null,
      "outputs": []
    },
    {
      "cell_type": "code",
      "source": [
        "###\n",
        "### COMPUTE Common SNPs in FAT_R_Clones = D u E u F\n",
        "###\n",
        "DuE_dict = dict_union(D_dict, E_dict)\n",
        "DuEuF_dict = dict_union(DuE_dict, F_dict)\n",
        "dict_print(DuEuF_dict)"
      ],
      "metadata": {
        "id": "0AfGL1I1mS9v"
      },
      "execution_count": null,
      "outputs": []
    },
    {
      "cell_type": "code",
      "source": [
        "###\n",
        "### READS G (Fos_FAT_R_P)\n",
        "###\n",
        "G_dict = read_file('G_Fos_FAT_R_P.xlsx')\n",
        "print(G_dict)"
      ],
      "metadata": {
        "id": "GN1ROoBAliaV"
      },
      "execution_count": null,
      "outputs": []
    },
    {
      "cell_type": "code",
      "source": [
        "###\n",
        "### READS H (Fos_FAT_R_C1)\n",
        "###\n",
        "H_dict = read_file('H_Fos_FAT_R_C1.xlsx')\n",
        "print(H_dict)"
      ],
      "metadata": {
        "id": "r5UqR1bylus-"
      },
      "execution_count": null,
      "outputs": []
    },
    {
      "cell_type": "code",
      "source": [
        "###\n",
        "### READS I (Fos_FAT_R_C2)\n",
        "###\n",
        "I_dict = read_file('I_Fos_FAT_R_C2.xlsx')\n",
        "print(I_dict)"
      ],
      "metadata": {
        "id": "TVPG99pzl4Sw"
      },
      "execution_count": null,
      "outputs": []
    },
    {
      "cell_type": "code",
      "source": [
        "###\n",
        "### READS J (Fos_FAT_R_C3)\n",
        "###\n",
        "J_dict = read_file('J_FOS_FAT_R_C3.xlsx')\n",
        "print(J_dict)"
      ],
      "metadata": {
        "id": "_56TdQZ7l6Hr"
      },
      "execution_count": null,
      "outputs": []
    },
    {
      "cell_type": "code",
      "source": [
        "###\n",
        "### COMPUTE Unique SNPs for Fos_FAT_R_P = G - (A u B u C u D u E u F)\n",
        "###\n",
        "AuB_dict = dict_union(A_dict, B_dict)\n",
        "CuD_dict = dict_union(C_dict, D_dict)\n",
        "EuF_dict = dict_union(E_dict, F_dict)\n",
        "AuBuCuD_dict = dict_union(AuB_dict, CuD_dict)\n",
        "AuBuCuDuEuF_dict = dict_union(AuBuCuD_dict,EuF_dict)\n",
        "dict_difference(G_dict, AuBuCuDuEuF_dict)"
      ],
      "metadata": {
        "id": "y3DQ15bte8DA"
      },
      "execution_count": null,
      "outputs": []
    },
    {
      "cell_type": "code",
      "source": [
        "###\n",
        "### COMPUTE Unique SNPs for Fos_FAT_R_C1 = H - (A u B u C u D u E u F u G u I u J)\n",
        "###\n",
        "AuB_dict = dict_union(A_dict, B_dict)\n",
        "CuD_dict = dict_union(C_dict, D_dict)\n",
        "AuBuCuD_dict = dict_union(AuB_dict, CuD_dict)\n",
        "EuF_dict = dict_union(E_dict, F_dict)\n",
        "GuI_dict = dict_union(G_dict, I_dict)\n",
        "EuFuGuI_dict = dict_union(EuF_dict,GuI_dict)\n",
        "AuBuCuDuEuFuGuI_dict = dict_union(AuBuCuD_dict,EuFuGuI_dict)\n",
        "AuBuCuDuEuFuGuIuJ_dict = dict_union(AuBuCuDuEuFuGuI_dict,J_dict)\n",
        "dict_difference(H_dict,AuBuCuDuEuFuGuIuJ_dict)"
      ],
      "metadata": {
        "id": "rOugXDrfe8Og"
      },
      "execution_count": null,
      "outputs": []
    },
    {
      "cell_type": "code",
      "source": [
        "###\n",
        "### COMPUTE Unique SNPs for Fos_FAT_R_C2 = I - (A u B u C u D u E u F u G u H u J)\n",
        "###\n",
        "AuB_dict = dict_union(A_dict, B_dict)\n",
        "CuD_dict = dict_union(C_dict, D_dict)\n",
        "AuBuCuD_dict = dict_union(AuB_dict, CuD_dict)\n",
        "EuF_dict = dict_union(E_dict, F_dict)\n",
        "GuH_dict = dict_union(G_dict, H_dict)\n",
        "EuFuGuH_dict = dict_union(EuF_dict,GuH_dict)\n",
        "AuBuCuDuEuFuGuH_dict = dict_union(AuBuCuD_dict,EuFuGuH_dict)\n",
        "AuBuCuDuEuFuGuHuJ_dict = dict_union(AuBuCuDuEuFuGuH_dict,J_dict)\n",
        "dict_difference(I_dict,AuBuCuDuEuFuGuHuJ_dict)"
      ],
      "metadata": {
        "id": "1V-VbrNZe-0L"
      },
      "execution_count": null,
      "outputs": []
    },
    {
      "cell_type": "code",
      "source": [
        "###\n",
        "### COMPUTE Unique SNPs for Fos_FAT_R_C3 = J - (A u B u C u D u E u F u G u H u I)\n",
        "###\n",
        "AuB_dict = dict_union(A_dict, B_dict)\n",
        "CuD_dict = dict_union(C_dict, D_dict)\n",
        "AuBuCuD_dict = dict_union(AuB_dict, CuD_dict)\n",
        "EuF_dict = dict_union(E_dict, F_dict)\n",
        "GuH_dict = dict_union(G_dict, H_dict)\n",
        "EuFuGuH_dict = dict_union(EuF_dict,GuH_dict)\n",
        "AuBuCuDuEuFuGuH_dict = dict_union(AuBuCuD_dict,EuFuGuH_dict)\n",
        "AuBuCuDuEuFuGuHuI_dict = dict_union(AuBuCuDuEuFuGuH_dict,I_dict)\n",
        "dict_difference(J_dict,AuBuCuDuEuFuGuHuI_dict)"
      ],
      "metadata": {
        "id": "1GpkqityfAO0"
      },
      "execution_count": null,
      "outputs": []
    },
    {
      "cell_type": "code",
      "source": [
        "###\n",
        "### COMPUTE Common SNPs in Fos_FAT_R_Clones = H u I u J\n",
        "###\n",
        "HuI_dict = dict_union(H_dict,I_dict)\n",
        "HuIuJ_dict = dict_union(HuI_dict,J_dict)\n",
        "dict_print(HuIuJ_dict)"
      ],
      "metadata": {
        "id": "FQE4qNb5fBpi"
      },
      "execution_count": null,
      "outputs": []
    },
    {
      "cell_type": "code",
      "source": [
        "###\n",
        "### COMPUTE Common SNPs = D u E u F H u I u J\n",
        "###\n",
        "DuEuFuHuIuJ_dict = dict_union(DuEuF_dict,HuIuJ_dict)\n",
        "dict_print(DuEuFuHuIuJ_dict)"
      ],
      "metadata": {
        "id": "f6iCOJHdQri-"
      },
      "execution_count": null,
      "outputs": []
    },
    {
      "cell_type": "code",
      "source": [
        "###\n",
        "### COMPUTE Common SNPs = (D u E u F) intersection (H u I u J)\n",
        "###\n",
        "DuEuFintHuIuJ_dict = {}\n",
        "for x in DuEuF_dict:\n",
        "  if x in HuIuJ_dict:\n",
        "    if DuEuF_dict[x][0] > HuIuJ_dict[x][0]:\n",
        "      DuEuFintHuIuJ_dict[x] = DuEuF_dict[x] # take the highest frequency\n",
        "    else:\n",
        "      DuEuFintHuIuJ_dict[x] = HuIuJ_dict[x]\n",
        "dict_print(DuEuFintHuIuJ_dict)"
      ],
      "metadata": {
        "id": "g5pJg_N1RVQ1"
      },
      "execution_count": null,
      "outputs": []
    },
    {
      "cell_type": "code",
      "source": [],
      "metadata": {
        "id": "7YVHAJ_bYaXe"
      },
      "execution_count": null,
      "outputs": []
    }
  ]
}